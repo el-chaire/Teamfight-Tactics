{
 "cells": [
  {
   "cell_type": "markdown",
   "id": "13d5d566",
   "metadata": {},
   "source": [
    "### Obtaining Data - Player Info and Match ID\n",
    "\n",
    "This will be a short program to extract TFT player information from the Riot API.\n",
    "The goal is to use the request URL of the Riot API to obtain player data which we will store in a JSON format.\n",
    "The follow up is to them use this info to eventually obtain match information.\n",
    "\n"
   ]
  },
  {
   "cell_type": "code",
   "execution_count": null,
   "id": "3ade4b48",
   "metadata": {},
   "outputs": [],
   "source": [
    "## The Player Level will be of the format [tier, div] where\n",
    "## tier = \"CHALLENGER\", \"GRANDMASTER\", \"MASTER\", \"DIAMOND\", \"PLATNIUM\", \"GOLD\", \"SILVER\", \"BRONZE\", \"IRON\"\n",
    "## div = \"I\",\"II\",\"III\",\"IV\" which will be ignored if str = \"Challenger\", \"Grandmaster\", \"Master\"\n",
    "\n",
    "\n",
    "PLAYER_RANK = [\"MASTER\",\"III\"]\n",
    "PAGE_NUMBER = 6    # For any tier below masters the data is stored in pages of 200\n",
    "API_KEY = \"\"\n",
    "\n",
    "def Player_Division(PLAYER_RANK = [None ,\"I\"]):\n",
    "    if PLAYER_RANK[0] == \"CHALLENGER\":\n",
    "        return \"https://na1.api.riotgames.com/tft/league/v1/challenger\"\n",
    "    elif PLAYER_RANK[0] == \"GRANDMASTER\":\n",
    "        return \"https://na1.api.riotgames.com/tft/league/v1/grandmaster\"\n",
    "    elif PLAYER_RANK[0] == \"MASTER\":\n",
    "        return \"https://na1.api.riotgames.com/tft/league/v1/master\"\n",
    "    else:\n",
    "        return \"https://na1.api.riotgames.com/tft/league/v1/entries/\" + PLAYER_RANK[0] + \"/\" + PLAYER_RANK[1]\n",
    "\n",
    "## The general format will be below. If we want to look at lower division then there are multiple pages of information\n",
    "## In that case we can append \"&page=n\" where n is some int\n",
    "\n",
    "if PLAYER_RANK[0] == \"CHALLENGER\" or PLAYER_RANK[0] == \"GRANDMASTER\" or PLAYER_RANK[0] == \"MASTER\":\n",
    "    REQUEST_URL = Player_Division(PLAYER_RANK) + \"?api_key=\" + API_KEY\n",
    "else:\n",
    "    REQUEST_URL = Player_Division(PLAYER_RANK) + \"?page=\" + str(PAGE_NUMBER) + \"&api_key=\" + API_KEY\n",
    "\n",
    "\n",
    "print(REQUEST_URL)"
   ]
  },
  {
   "cell_type": "code",
   "execution_count": 2,
   "id": "a82c2dbe",
   "metadata": {},
   "outputs": [
    {
     "ename": "NameError",
     "evalue": "name 'REQUEST_URL' is not defined",
     "output_type": "error",
     "traceback": [
      "\u001b[1;31m---------------------------------------------------------------------------\u001b[0m",
      "\u001b[1;31mNameError\u001b[0m                                 Traceback (most recent call last)",
      "\u001b[1;32m<ipython-input-2-bdf7fc796ffd>\u001b[0m in \u001b[0;36m<module>\u001b[1;34m\u001b[0m\n\u001b[0;32m      7\u001b[0m \u001b[1;32mimport\u001b[0m \u001b[0mcsv\u001b[0m\u001b[1;33m\u001b[0m\u001b[1;33m\u001b[0m\u001b[0m\n\u001b[0;32m      8\u001b[0m \u001b[1;33m\u001b[0m\u001b[0m\n\u001b[1;32m----> 9\u001b[1;33m \u001b[0murl\u001b[0m \u001b[1;33m=\u001b[0m \u001b[0murllib\u001b[0m\u001b[1;33m.\u001b[0m\u001b[0mrequest\u001b[0m\u001b[1;33m.\u001b[0m\u001b[0murlopen\u001b[0m\u001b[1;33m(\u001b[0m\u001b[0mREQUEST_URL\u001b[0m\u001b[1;33m)\u001b[0m\u001b[1;33m\u001b[0m\u001b[1;33m\u001b[0m\u001b[0m\n\u001b[0m\u001b[0;32m     10\u001b[0m \u001b[0mdata\u001b[0m \u001b[1;33m=\u001b[0m \u001b[0mjson\u001b[0m\u001b[1;33m.\u001b[0m\u001b[0mloads\u001b[0m\u001b[1;33m(\u001b[0m\u001b[0murl\u001b[0m\u001b[1;33m.\u001b[0m\u001b[0mread\u001b[0m\u001b[1;33m(\u001b[0m\u001b[1;33m)\u001b[0m\u001b[1;33m.\u001b[0m\u001b[0mdecode\u001b[0m\u001b[1;33m(\u001b[0m\u001b[1;33m)\u001b[0m\u001b[1;33m)\u001b[0m\u001b[1;33m\u001b[0m\u001b[1;33m\u001b[0m\u001b[0m\n\u001b[0;32m     11\u001b[0m \u001b[0mprint\u001b[0m\u001b[1;33m(\u001b[0m\u001b[0mdata\u001b[0m\u001b[1;33m)\u001b[0m\u001b[1;33m\u001b[0m\u001b[1;33m\u001b[0m\u001b[0m\n",
      "\u001b[1;31mNameError\u001b[0m: name 'REQUEST_URL' is not defined"
     ]
    }
   ],
   "source": [
    "## Now with the link we will produce the JSON files with the data on the players\n",
    "import json\n",
    "import numpy as np\n",
    "import pandas as pd\n",
    "import urllib.request\n",
    "import time\n",
    "import csv\n",
    "\n",
    "url = urllib.request.urlopen(REQUEST_URL)    \n",
    "data = json.loads(url.read().decode())\n",
    "print(data)\n",
    "    \n",
    "\n",
    "jsonString = json.dumps(data)\n",
    "jsonFile = open(\"player.json\", \"w\")\n",
    "jsonFile.write(jsonString)\n",
    "jsonFile.close()\n"
   ]
  },
  {
   "cell_type": "code",
   "execution_count": null,
   "id": "b8e06375",
   "metadata": {},
   "outputs": [],
   "source": [
    "## Storing the JSON file in a dataframe for easy access and management\n",
    "\n",
    "df = pd.read_json(\"player.json\")\n",
    "df"
   ]
  },
  {
   "cell_type": "code",
   "execution_count": null,
   "id": "2a401417",
   "metadata": {},
   "outputs": [],
   "source": [
    "## There will need to be two methodologies to obtain summonerId\n",
    "## Split between MASTERS and above vs below MASTERS level players\n",
    "## For CHELLENGER, GRANDMASTER and MASTER we will require some more work to extract the info out\n",
    "ID = []\n",
    "if PLAYER_RANK[0] == \"CHALLENGER\" or PLAYER_RANK[0] == \"GRANDMASTER\" or PLAYER_RANK[0] == \"MASTER\":\n",
    "    for i in range(len(df)):\n",
    "         ID.append(df[\"entries\"][i][\"summonerId\"])\n",
    "else:\n",
    "    for i in range(len(df)):\n",
    "         ID.append(df[\"summonerId\"][i])\n",
    "            \n",
    "ID\n"
   ]
  },
  {
   "cell_type": "code",
   "execution_count": null,
   "id": "1c61aa08",
   "metadata": {
    "scrolled": true
   },
   "outputs": [],
   "source": [
    "## From here we obtain the puuid from the summonerId which will then allow us to get match history\n",
    "## The number of request is capped at 20 per second or 100 per minute\n",
    "## We will halt the for loop every so often so that the program can run all the way through\n",
    "\n",
    "PUUID = []\n",
    "for i in range(len(ID)):\n",
    "    try:\n",
    "        url = urllib.request.urlopen(\"https://na1.api.riotgames.com/tft/summoner/v1/summoners/\" + ID[i] + \"?api_key=\" + API_KEY)    \n",
    "        data = json.loads(url.read().decode())\n",
    "        PUUID.append(data[\"puuid\"])\n",
    "    except:\n",
    "        print(\"Error at \" + str(i))\n",
    "    if i % 10 == 0:\n",
    "        time.sleep(10)\n",
    "        print(i)\n",
    "PUUID"
   ]
  },
  {
   "cell_type": "code",
   "execution_count": null,
   "id": "f4da0152",
   "metadata": {},
   "outputs": [],
   "source": [
    "len(PUUID)"
   ]
  },
  {
   "cell_type": "code",
   "execution_count": null,
   "id": "e844b05d",
   "metadata": {},
   "outputs": [],
   "source": [
    "## Saves the PUUID into csv files\n",
    "\n",
    "with open('puuid.csv', 'w') as f: \n",
    "    write = csv.writer(f) \n",
    "    write.writerow(PUUID)"
   ]
  },
  {
   "cell_type": "code",
   "execution_count": null,
   "id": "3fcab021",
   "metadata": {
    "scrolled": true
   },
   "outputs": [],
   "source": [
    "## Reads the csv file and puts data here\n",
    "\n",
    "with open('puuid.csv', newline='') as f:\n",
    "    reader = csv.reader(f)\n",
    "    puuid = list(reader)[0]\n",
    "\n",
    "print(puuid)"
   ]
  },
  {
   "cell_type": "code",
   "execution_count": null,
   "id": "00d729d7",
   "metadata": {
    "scrolled": true
   },
   "outputs": [],
   "source": [
    "## We will find matche id via the PUUID saved\n",
    "MatchID = set({})\n",
    "NUM_OF_MATCHES = 20\n",
    "\n",
    "for i in range(len(puuid)):\n",
    "    try:\n",
    "        PUUID_MATCH_URL = \"https://americas.api.riotgames.com/tft/match/v1/matches/by-puuid/\" + puuid[i] + \"/ids?count=\" + str(NUM_OF_MATCHES) +\"&api_key=\" + API_KEY\n",
    "        url = urllib.request.urlopen(PUUID_MATCH_URL)    \n",
    "        data = json.loads(url.read().decode())\n",
    "        MatchID.update(data)\n",
    "    except:\n",
    "        print(\"Error at \" + str(i))\n",
    "    if i % 10 == 0:\n",
    "        time.sleep(10)\n",
    "        print(i)\n"
   ]
  },
  {
   "cell_type": "code",
   "execution_count": null,
   "id": "212b543b",
   "metadata": {},
   "outputs": [],
   "source": [
    "## Input filename of which to save this batch of match id from the puuid\n",
    "filename = '' + '.csv'\n",
    "with open(filename, 'w') as f: \n",
    "    write = csv.writer(f) \n",
    "    write.writerow(MatchID)"
   ]
  },
  {
   "cell_type": "markdown",
   "id": "26b13125",
   "metadata": {},
   "source": [
    "### Obtaining Data - Match Information\n",
    "\n",
    "From the different matchid .csv files we combine into one match id file"
   ]
  },
  {
   "cell_type": "code",
   "execution_count": 3,
   "id": "d51a33a4",
   "metadata": {},
   "outputs": [],
   "source": [
    "## Will store the match ids as a set to eliminate overlap\n",
    "## File name for looping through and adding to match id\n",
    "## Will result in a list of unique match ids\n",
    "matchid = set({})\n",
    "filename = ['master_matchid.csv',\n",
    "           'challenger_matchid.csv',\n",
    "           'grandmaster_matchid.csv']\n",
    "\n",
    "for x in filename:\n",
    "    with open(x, newline='') as f:\n",
    "        reader = csv.reader(f)\n",
    "        temp = list(reader)[0]\n",
    "    matchid = matchid.union(set(temp))\n",
    "    \n",
    "matchid = list(matchid)"
   ]
  },
  {
   "cell_type": "code",
   "execution_count": 5,
   "id": "8c050f83",
   "metadata": {},
   "outputs": [],
   "source": [
    "## Writing the Match IDs into a file which we can access\n",
    "## The storing of these data in cvs is to allow for easy management with possibility to combine them\n",
    "with open('matchid.csv', 'w') as f: \n",
    "    write = csv.writer(f) \n",
    "    write.writerow(matchid)"
   ]
  },
  {
   "cell_type": "markdown",
   "id": "e4a9770e",
   "metadata": {},
   "source": [
    "### Extracting match info via Riot API using match ID\n",
    "\n",
    "This will be the longest process in the data extracting portion since the amount of data is magnitude greater in size than the other data extracted. Also there is a limit to the amount of queries that can be made for non-approved Riot members."
   ]
  },
  {
   "cell_type": "code",
   "execution_count": 7,
   "id": "6c417834",
   "metadata": {},
   "outputs": [
    {
     "name": "stdout",
     "output_type": "stream",
     "text": [
      "99640\n"
     ]
    }
   ],
   "source": [
    "with open('matchid.csv', newline='') as f:\n",
    "    reader = csv.reader(f)\n",
    "    matchid = list(reader)[0]\n",
    "\n",
    "print(len(matchid))"
   ]
  },
  {
   "cell_type": "code",
   "execution_count": null,
   "id": "84bd9b16",
   "metadata": {},
   "outputs": [],
   "source": [
    "## The raw data of the matches from the Match ID will be requested and places into a list\n",
    "\n",
    "match_info = []\n",
    "\n",
    "for i in range(len(matchid)):\n",
    "    try:\n",
    "        MATCH_URL = \"https://americas.api.riotgames.com/tft/match/v1/matches/\" + matchid[i] + \"?api_key=\" + API_KEY\n",
    "        url = urllib.request.urlopen(MATCH_URL)    \n",
    "        data = json.loads(url.read().decode())\n",
    "        match_info.append(data)\n",
    "    except:\n",
    "        print(\"Error at \" + str(i))\n",
    "    if i % 10 == 0:\n",
    "        time.sleep(10)\n",
    "        print(i)\n",
    "\n",
    "print(len(match_info))"
   ]
  },
  {
   "cell_type": "code",
   "execution_count": null,
   "id": "5e9491bf",
   "metadata": {},
   "outputs": [],
   "source": [
    "## Export the data set as a JSON File by date\n",
    "\n",
    "from datetime import datetime\n",
    "today = datetime.today()\n",
    "\n",
    "jsonString = json.dumps(match_info)\n",
    "##jsonFile = open(today.strftime(\"%Y%m%d\") + \".json\", \"w\")\n",
    "jsonFile = open(\"data.json\", \"w\")\n",
    "jsonFile.write(jsonString)\n",
    "jsonFile.close()"
   ]
  },
  {
   "cell_type": "code",
   "execution_count": null,
   "id": "d285a405",
   "metadata": {},
   "outputs": [],
   "source": []
  }
 ],
 "metadata": {
  "kernelspec": {
   "display_name": "Python 3",
   "language": "python",
   "name": "python3"
  },
  "language_info": {
   "codemirror_mode": {
    "name": "ipython",
    "version": 3
   },
   "file_extension": ".py",
   "mimetype": "text/x-python",
   "name": "python",
   "nbconvert_exporter": "python",
   "pygments_lexer": "ipython3",
   "version": "3.8.8"
  }
 },
 "nbformat": 4,
 "nbformat_minor": 5
}
